{
 "cells": [
  {
   "cell_type": "code",
   "execution_count": null,
   "metadata": {},
   "outputs": [],
   "source": [
    "# import pandas as pd\n",
    "\n",
    "# # Read the funcs.py file\n",
    "# with open('funcs.py', 'r') as f:\n",
    "#     code = f.read()\n",
    "\n",
    "# # Create a DataFrame with the code and empty columns for errors/buggy functions\n",
    "# df = pd.DataFrame({\n",
    "#     'File': ['code_test/funcs.py'],\n",
    "#     'Buggy Code': [code],\n",
    "#     'Errors': [''],\n",
    "#     'Buggy Functions': ['']\n",
    "# })\n",
    "\n",
    "# # Save to CSV\n",
    "# df.to_csv('simple_data.csv', index=False)\n"
   ]
  },
  {
   "cell_type": "code",
   "execution_count": null,
   "metadata": {},
   "outputs": [],
   "source": []
  }
 ],
 "metadata": {
  "kernelspec": {
   "display_name": "minions",
   "language": "python",
   "name": "python3"
  },
  "language_info": {
   "codemirror_mode": {
    "name": "ipython",
    "version": 3
   },
   "file_extension": ".py",
   "mimetype": "text/x-python",
   "name": "python",
   "nbconvert_exporter": "python",
   "pygments_lexer": "ipython3",
   "version": "3.10.16"
  }
 },
 "nbformat": 4,
 "nbformat_minor": 2
}
