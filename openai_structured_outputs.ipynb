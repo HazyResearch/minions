{
 "cells": [
  {
   "cell_type": "code",
   "execution_count": 1,
   "metadata": {},
   "outputs": [],
   "source": [
    "from pydantic import BaseModel\n",
    "from openai import OpenAI"
   ]
  },
  {
   "cell_type": "code",
   "execution_count": 8,
   "metadata": {},
   "outputs": [
    {
     "name": "stdout",
     "output_type": "stream",
     "text": [
      "[Step(explanation='Subtract 31 from both sides to isolate the term with x.', output='8x = 2 - 31'), Step(explanation='Simplify the right side by performing the subtraction.', output='8x = -29'), Step(explanation='Divide both sides by 8 to solve for x.', output='x = -29/8')]\n",
      "x = -29/8\n"
     ]
    }
   ],
   "source": [
    "class Step(BaseModel):\n",
    "    explanation: str\n",
    "    output: str\n",
    "\n",
    "\n",
    "class MathResponse(BaseModel):\n",
    "    steps: list[Step]\n",
    "    final_answer: str\n",
    "\n",
    "\n",
    "client = OpenAI()\n",
    "\n",
    "completion = client.beta.chat.completions.parse(\n",
    "    model=\"gpt-4o\",\n",
    "    messages=[\n",
    "        {\"role\": \"system\", \"content\": \"You are a helpful math tutor.\"},\n",
    "        {\"role\": \"user\", \"content\": \"solve 8x + 31 = 2\"},\n",
    "    ],\n",
    "    response_format=MathResponse,\n",
    ")\n",
    "\n",
    "message = completion.choices[0].message\n",
    "if message.parsed:\n",
    "    print(message.parsed.steps)\n",
    "    print(message.parsed.final_answer)\n",
    "else:\n",
    "    print(message.refusal)"
   ]
  },
  {
   "cell_type": "code",
   "execution_count": 10,
   "metadata": {},
   "outputs": [],
   "source": [
    "class RemoteSynthesisResponse(BaseModel):\n",
    "    explanation: str\n",
    "    feedback: str | None\n",
    "    decision: str\n",
    "    answer: str | None\n",
    "    scratchpad: str"
   ]
  },
  {
   "cell_type": "code",
   "execution_count": 12,
   "metadata": {},
   "outputs": [],
   "source": [
    "REMOTE_SYNTHESIS_JSON = \"\"\"\\\n",
    "I have enough information to answer the question. The text clearly indicates the names of three researchers: Dan, Filipe, and Pedro.\n",
    "All are involved in the project. Therefore I will provide the final answer.\n",
    "\n",
    "Based on your step-by-step analysis above, please strictly return a single object with the following fields:\n",
    "\n",
    "```python\n",
    "class RemoteSynthesisResponse(BaseModel):\n",
    "    explanation: str # A concise statement of your reasoning\n",
    "    feedback: str | None # If more information is needed, what specifically to look for. NO CODE in this field. Set to null if no feedback needed.\n",
    "    decision: str # Must be either 'provide_final_answer' OR 'request_additional_info'\n",
    "    answer: str | None # The final answer if decision is 'provide_final_answer', null otherwise\n",
    "    scratchpad: str # Brief summary of all information gathered so far, including your current analysis. This will be shown in future rounds.\n",
    "```\n",
    "\"\"\""
   ]
  },
  {
   "cell_type": "code",
   "execution_count": 16,
   "metadata": {},
   "outputs": [],
   "source": [
    "completion = client.beta.chat.completions.parse(\n",
    "    model=\"gpt-4o\",\n",
    "    messages=[\n",
    "        {\"role\": \"user\", \"content\": REMOTE_SYNTHESIS_JSON},\n",
    "    ],\n",
    "    response_format=RemoteSynthesisResponse,\n",
    ")"
   ]
  },
  {
   "cell_type": "code",
   "execution_count": 18,
   "metadata": {},
   "outputs": [
    {
     "name": "stdout",
     "output_type": "stream",
     "text": [
      "All three researchers, Dan, Filipe, and Pedro, are clearly mentioned as participants in the project.\n",
      "Dan, Filipe, and Pedro are all involved in the project.\n"
     ]
    }
   ],
   "source": [
    "message = completion.choices[0].message\n",
    "if message.parsed:\n",
    "    print(message.parsed.explanation)\n",
    "    print(message.parsed.answer)\n",
    "else:\n",
    "    print(message.refusal)"
   ]
  },
  {
   "cell_type": "code",
   "execution_count": null,
   "metadata": {},
   "outputs": [],
   "source": []
  }
 ],
 "metadata": {
  "kernelspec": {
   "display_name": "minions",
   "language": "python",
   "name": "python3"
  },
  "language_info": {
   "codemirror_mode": {
    "name": "ipython",
    "version": 3
   },
   "file_extension": ".py",
   "mimetype": "text/x-python",
   "name": "python",
   "nbconvert_exporter": "python",
   "pygments_lexer": "ipython3",
   "version": "3.13.2"
  }
 },
 "nbformat": 4,
 "nbformat_minor": 2
}
